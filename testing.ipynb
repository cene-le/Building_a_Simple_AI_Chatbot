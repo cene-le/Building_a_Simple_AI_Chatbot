{
 "cells": [
  {
   "cell_type": "markdown",
   "id": "6a18f927-2349-4973-8316-efc00e2e4922",
   "metadata": {},
   "source": [
    "## Import Library"
   ]
  },
  {
   "cell_type": "code",
   "execution_count": 1,
   "id": "10f713c5-648a-4672-8cb1-a6f235df5f57",
   "metadata": {},
   "outputs": [
    {
     "name": "stdout",
     "output_type": "stream",
     "text": [
      "WARNING:tensorflow:From C:\\Users\\LENOVO\\AppData\\Local\\Programs\\Python\\Python310\\lib\\site-packages\\keras\\src\\losses.py:2976: The name tf.losses.sparse_softmax_cross_entropy is deprecated. Please use tf.compat.v1.losses.sparse_softmax_cross_entropy instead.\n",
      "\n"
     ]
    }
   ],
   "source": [
    "import random\n",
    "import json\n",
    "import pickle\n",
    "import numpy as np\n",
    "import nltk\n",
    "from nltk.stem import WordNetLemmatizer\n",
    "from tensorflow.keras.models import load_model "
   ]
  },
  {
   "cell_type": "markdown",
   "id": "91db2ef1-3e9e-4999-b8f5-05be2f89fac8",
   "metadata": {},
   "source": [
    "## Preprocessing "
   ]
  },
  {
   "cell_type": "code",
   "execution_count": 3,
   "id": "d1b6d0b7-41ef-4bcd-9ae3-a32f64171acd",
   "metadata": {},
   "outputs": [
    {
     "name": "stdout",
     "output_type": "stream",
     "text": [
      "WARNING:tensorflow:From C:\\Users\\LENOVO\\AppData\\Local\\Programs\\Python\\Python310\\lib\\site-packages\\keras\\src\\saving\\legacy\\saved_model\\load.py:107: The name tf.gfile.Exists is deprecated. Please use tf.io.gfile.exists instead.\n",
      "\n",
      "WARNING:tensorflow:From C:\\Users\\LENOVO\\AppData\\Local\\Programs\\Python\\Python310\\lib\\site-packages\\keras\\src\\utils\\tf_utils.py:585: The name tf.executing_eagerly_outside_functions is deprecated. Please use tf.compat.v1.executing_eagerly_outside_functions instead.\n",
      "\n"
     ]
    }
   ],
   "source": [
    "lemmatizer = WordNetLemmatizer()\n",
    "intents = json.loads(open('intents.json').read())\n",
    "\n",
    "words = pickle.load(open('words.pkl', 'rb'))\n",
    "classes = pickle.load(open('classes.pkl', 'rb'))\n",
    "model = load_model('cahtbotmodel4.model')\n",
    "\n",
    "def clean_up_sentence(sentence):\n",
    "    sentence_words = nltk.word_tokenize(sentence)\n",
    "    sentence_words = [lemmatizer.lemmatize(word) for word in sentence_words]\n",
    "    return sentence_words\n",
    "\n",
    "def bag_of_words(sentence):\n",
    "    sentence_words = clean_up_sentence(sentence)\n",
    "    bag = [0] * len(words)\n",
    "    for w in sentence_words:\n",
    "        for i, word in enumerate(words):\n",
    "            if word == w:\n",
    "                bag[i] = 1\n",
    "    return np.array(bag)  "
   ]
  },
  {
   "cell_type": "markdown",
   "id": "49a0390f-7c21-45bc-85d1-4cc60b9b62e0",
   "metadata": {},
   "source": [
    "## Testing or Prediction "
   ]
  },
  {
   "cell_type": "code",
   "execution_count": 4,
   "id": "b289c2b6-33bc-49f8-9656-1600b1dacd35",
   "metadata": {},
   "outputs": [],
   "source": [
    "def predict_class(sentence):\n",
    "    bow = bag_of_words(sentence)\n",
    "    error_threshold = 0.25\n",
    "    res = model.predict(np.array([bow]))[0]\n",
    "    results = [[i, r] for i, r in enumerate(res) if r > error_threshold]\n",
    "\n",
    "    results.sort(key=lambda x: x[1], reverse=True)\n",
    "    return_list = []\n",
    "    for r in results:\n",
    "        return_list.append({'intent': classes[r[0]], 'probability': str(r[1])})\n",
    "    return return_list\n",
    "\n",
    "def get_response(intents_list, intents_json):\n",
    "    if intents_list:\n",
    "        tag = intents_list[0]['intent']\n",
    "        list_of_intents = intents_json['intents']\n",
    "        for i in list_of_intents:\n",
    "            if i['tag'] == tag:\n",
    "                result = random.choice(i['responses'])\n",
    "                break\n",
    "    else:\n",
    "        tag = 'noanswer'\n",
    "        list_of_intents = intents_json['intents']\n",
    "        for i in list_of_intents:\n",
    "            if i['tag'] == tag:\n",
    "                result = random.choice(i['responses'])\n",
    "                break\n",
    "    return result "
   ]
  },
  {
   "cell_type": "markdown",
   "id": "cdc34af4-144f-4108-891a-432684db63ac",
   "metadata": {},
   "source": [
    "## Starting a Bot"
   ]
  },
  {
   "cell_type": "code",
   "execution_count": 11,
   "id": "028eb677-dfa6-42a4-bf80-8d1c4b7858be",
   "metadata": {},
   "outputs": [
    {
     "name": "stdout",
     "output_type": "stream",
     "text": [
      "GO! Bot is running!\n",
      "Please type 'Hello' to start or 'Stop' to end the conversation\n"
     ]
    },
    {
     "name": "stdin",
     "output_type": "stream",
     "text": [
      "👤 User:  magadang umaga\n"
     ]
    },
    {
     "name": "stdout",
     "output_type": "stream",
     "text": [
      "1/1 [==============================] - 0s 32ms/step\n",
      "🤖 ChatBot: Hello! Welcome to FashionFusion. I can help you find the perfect outfit. Is there anything specific you're looking for?\n"
     ]
    },
    {
     "name": "stdin",
     "output_type": "stream",
     "text": [
      "👤 User:  kamusta\n"
     ]
    },
    {
     "name": "stdout",
     "output_type": "stream",
     "text": [
      "1/1 [==============================] - 0s 35ms/step\n",
      "🤖 ChatBot: Hello! Welcome to FashionFusion. I can help you find the perfect outfit. Is there anything specific you're looking for?\n"
     ]
    },
    {
     "name": "stdin",
     "output_type": "stream",
     "text": [
      "👤 User:  hello\n"
     ]
    },
    {
     "name": "stdout",
     "output_type": "stream",
     "text": [
      "1/1 [==============================] - 0s 32ms/step\n",
      "🤖 ChatBot: Hello! Welcome to FashionFusion. I can help you find the perfect outfit. Is there anything specific you're looking for?\n"
     ]
    },
    {
     "name": "stdin",
     "output_type": "stream",
     "text": [
      "👤 User:  give me recomendation chlothes\n"
     ]
    },
    {
     "name": "stdout",
     "output_type": "stream",
     "text": [
      "1/1 [==============================] - 0s 28ms/step\n",
      "🤖 ChatBot: In our collection, you will find a variety of interesting choices, from casual to formal. Please visit FashionFusion.com for more details.\n"
     ]
    },
    {
     "name": "stdin",
     "output_type": "stream",
     "text": [
      "👤 User:  si it exvensive?\n"
     ]
    },
    {
     "name": "stdout",
     "output_type": "stream",
     "text": [
      "1/1 [==============================] - 0s 29ms/step\n",
      "🤖 ChatBot: We offer a variety of choices with a varied price range, starting from 100 thousand to 1 million rupiah, depending on the style and material.\n"
     ]
    },
    {
     "name": "stdin",
     "output_type": "stream",
     "text": [
      "👤 User:  oke thank you, i will check your website\n"
     ]
    },
    {
     "name": "stdout",
     "output_type": "stream",
     "text": [
      "1/1 [==============================] - 0s 29ms/step\n",
      "🤖 ChatBot: Alright, if there is anything else you need, don't hesitate to contact us. Happy shopping!\n"
     ]
    },
    {
     "name": "stdin",
     "output_type": "stream",
     "text": [
      "👤 User:  Stop\n"
     ]
    }
   ],
   "source": [
    "def start_bot():\n",
    "    print(\"GO! Bot is running!\")\n",
    "    print(\"Please type 'Hello' to start or 'Stop' to end the conversation\")\n",
    "    while True:\n",
    "        message = input(\"👤 User: \")\n",
    "        if message.lower() == 'stop':\n",
    "            break\n",
    "\n",
    "        ints = predict_class(message)\n",
    "\n",
    "        if len(ints) > 0:\n",
    "            if ints[0]['intent'] == 'noanswer':\n",
    "                res = get_response(ints, intents)\n",
    "            else:\n",
    "                res = get_response(ints, intents)\n",
    "        else:\n",
    "            res = \"Sorry, I don't understand your question.\"\n",
    "\n",
    "        print(\"🤖 ChatBot:\", res)\n",
    "\n",
    "# Let's start\n",
    "start_bot()"
   ]
  },
  {
   "cell_type": "code",
   "execution_count": null,
   "id": "ba56520e-7b9e-4afc-add9-b6829293ff65",
   "metadata": {},
   "outputs": [],
   "source": []
  }
 ],
 "metadata": {
  "kernelspec": {
   "display_name": "Python 3 (ipykernel)",
   "language": "python",
   "name": "python3"
  },
  "language_info": {
   "codemirror_mode": {
    "name": "ipython",
    "version": 3
   },
   "file_extension": ".py",
   "mimetype": "text/x-python",
   "name": "python",
   "nbconvert_exporter": "python",
   "pygments_lexer": "ipython3",
   "version": "3.10.11"
  }
 },
 "nbformat": 4,
 "nbformat_minor": 5
}
